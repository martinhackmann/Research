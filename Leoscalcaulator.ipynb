{
 "cells": [
  {
   "cell_type": "code",
   "execution_count": 7,
   "metadata": {},
   "outputs": [
    {
     "name": "stdout",
     "output_type": "stream",
     "text": [
      "Your answer is: 5\n"
     ]
    }
   ],
   "source": [
    "factor1=int(input(\"Provide first number: \"))\n",
    "factor2=int(input(\"Provide second number: \"))\n",
    "factor3=input(\"Do you want to add (a), subtract(s), multiply (m), or divided the numbers (d)? \")\n",
    "if factor3==\"a\":\n",
    "    solution=factor1+factor2\n",
    "    print(\"Your answer is:\", solution) \n",
    "elif factor3==\"s\":\n",
    "    solution=factor1-factor2\n",
    "    print(\"Your answer is:\", solution) \n",
    "elif factor3==\"m\":\n",
    "    solution=factor1*factor2\n",
    "    print(\"Your answer is:\", solution) \n",
    "else :\n",
    "    solution=factor1 / factor2\n",
    "    print(\"Your answer is:\", solution) \n"
   ]
  }
 ],
 "metadata": {
  "kernelspec": {
   "display_name": "base",
   "language": "python",
   "name": "python3"
  },
  "language_info": {
   "codemirror_mode": {
    "name": "ipython",
    "version": 3
   },
   "file_extension": ".py",
   "mimetype": "text/x-python",
   "name": "python",
   "nbconvert_exporter": "python",
   "pygments_lexer": "ipython3",
   "version": "3.9.13"
  },
  "orig_nbformat": 4
 },
 "nbformat": 4,
 "nbformat_minor": 2
}
